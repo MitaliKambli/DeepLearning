{
  "nbformat": 4,
  "nbformat_minor": 0,
  "metadata": {
    "colab": {
      "name": "Keras-losses_J025.ipynb",
      "provenance": [],
      "collapsed_sections": [],
      "include_colab_link": true
    },
    "kernelspec": {
      "name": "python3",
      "display_name": "Python 3"
    }
  },
  "cells": [
    {
      "cell_type": "markdown",
      "metadata": {
        "id": "view-in-github",
        "colab_type": "text"
      },
      "source": [
        "<a href=\"https://colab.research.google.com/github/MitaliKambli/DeepLearning/blob/master/Lab8/Keras_losses_J025.ipynb\" target=\"_parent\"><img src=\"https://colab.research.google.com/assets/colab-badge.svg\" alt=\"Open In Colab\"/></a>"
      ]
    },
    {
      "cell_type": "code",
      "metadata": {
        "id": "DJkG-1OvheZp",
        "colab_type": "code",
        "colab": {
          "base_uri": "https://localhost:8080/",
          "height": 251
        },
        "outputId": "63d786b0-9b65-471d-ff25-e68c934e1210"
      },
      "source": [
        "import keras\n",
        "from keras import models\n",
        "from keras.layers import Dense, Dropout\n",
        "from keras.utils import to_categorical\n",
        "from keras.datasets import mnist\n",
        "from keras.utils.vis_utils import model_to_dot\n",
        "from IPython.display import SVG\n",
        "\n",
        "NUM_ROWS = 28\n",
        "NUM_COLS = 28\n",
        "NUM_CLASSES = 10\n",
        "BATCH_SIZE = 128\n",
        "EPOCHS = 10\n",
        "\n",
        "# Load data\n",
        "(X_train, y_train), (X_test, y_test) = mnist.load_data()\n",
        "\n",
        "# Reshape data\n",
        "X_train = X_train.reshape((X_train.shape[0], NUM_ROWS * NUM_COLS))\n",
        "X_train = X_train.astype('float32') / 255\n",
        "X_test = X_test.reshape((X_test.shape[0], NUM_ROWS * NUM_COLS))\n",
        "X_test = X_test.astype('float32') / 255\n",
        "\n",
        "# Categorically encode labels\n",
        "y_train = to_categorical(y_train, NUM_CLASSES)\n",
        "y_test = to_categorical(y_test, NUM_CLASSES)\n",
        "\n",
        "\n",
        "# Build neural network\n",
        "model = models.Sequential()\n",
        "model.add(Dense(512, activation='elu', input_shape=(NUM_ROWS * NUM_COLS,)))\n",
        "model.add(Dense(256, activation='elu'))\n",
        "model.add(Dense(10, activation='softmax'))\n",
        "\n"
      ],
      "execution_count": 1,
      "outputs": [
        {
          "output_type": "stream",
          "text": [
            "Using TensorFlow backend.\n"
          ],
          "name": "stderr"
        },
        {
          "output_type": "display_data",
          "data": {
            "text/html": [
              "<p style=\"color: red;\">\n",
              "The default version of TensorFlow in Colab will soon switch to TensorFlow 2.x.<br>\n",
              "We recommend you <a href=\"https://www.tensorflow.org/guide/migrate\" target=\"_blank\">upgrade</a> now \n",
              "or ensure your notebook will continue to use TensorFlow 1.x via the <code>%tensorflow_version 1.x</code> magic:\n",
              "<a href=\"https://colab.research.google.com/notebooks/tensorflow_version.ipynb\" target=\"_blank\">more info</a>.</p>\n"
            ],
            "text/plain": [
              "<IPython.core.display.HTML object>"
            ]
          },
          "metadata": {
            "tags": []
          }
        },
        {
          "output_type": "stream",
          "text": [
            "Downloading data from https://s3.amazonaws.com/img-datasets/mnist.npz\n",
            "11493376/11490434 [==============================] - 1s 0us/step\n",
            "WARNING:tensorflow:From /usr/local/lib/python3.6/dist-packages/keras/backend/tensorflow_backend.py:66: The name tf.get_default_graph is deprecated. Please use tf.compat.v1.get_default_graph instead.\n",
            "\n",
            "WARNING:tensorflow:From /usr/local/lib/python3.6/dist-packages/keras/backend/tensorflow_backend.py:541: The name tf.placeholder is deprecated. Please use tf.compat.v1.placeholder instead.\n",
            "\n",
            "WARNING:tensorflow:From /usr/local/lib/python3.6/dist-packages/keras/backend/tensorflow_backend.py:4432: The name tf.random_uniform is deprecated. Please use tf.random.uniform instead.\n",
            "\n"
          ],
          "name": "stdout"
        }
      ]
    },
    {
      "cell_type": "markdown",
      "metadata": {
        "id": "N52J4-gdiJSF",
        "colab_type": "text"
      },
      "source": [
        "#mean_squared_error\n",
        "Test loss: 0.004180449169459151\n",
        "\n",
        "Test accuracy: 0.975"
      ]
    },
    {
      "cell_type": "code",
      "metadata": {
        "id": "rX0QPq4UiMSl",
        "colab_type": "code",
        "colab": {
          "base_uri": "https://localhost:8080/",
          "height": 794
        },
        "outputId": "a0afc33d-3497-44ce-ada5-deec27e61fb2"
      },
      "source": [
        "# Compile model using accuracy\n",
        "model.compile(optimizer='rmsprop',\n",
        "              loss='mean_squared_error',\n",
        "              metrics=['accuracy'])\n",
        "\n",
        "# Train model\n",
        "model.fit(X_train, y_train,\n",
        "          batch_size=BATCH_SIZE,\n",
        "          epochs=EPOCHS,\n",
        "          verbose=1,\n",
        "          validation_data=(X_test, y_test))\n",
        "\n",
        "score = model.evaluate(X_test, y_test, verbose=0)\n",
        "print('Test loss:', score[0])\n",
        "print('Test accuracy:', score[1])"
      ],
      "execution_count": 2,
      "outputs": [
        {
          "output_type": "stream",
          "text": [
            "WARNING:tensorflow:From /usr/local/lib/python3.6/dist-packages/keras/optimizers.py:793: The name tf.train.Optimizer is deprecated. Please use tf.compat.v1.train.Optimizer instead.\n",
            "\n",
            "WARNING:tensorflow:From /usr/local/lib/python3.6/dist-packages/keras/backend/tensorflow_backend.py:1033: The name tf.assign_add is deprecated. Please use tf.compat.v1.assign_add instead.\n",
            "\n",
            "WARNING:tensorflow:From /usr/local/lib/python3.6/dist-packages/keras/backend/tensorflow_backend.py:1020: The name tf.assign is deprecated. Please use tf.compat.v1.assign instead.\n",
            "\n",
            "WARNING:tensorflow:From /usr/local/lib/python3.6/dist-packages/keras/backend/tensorflow_backend.py:3005: The name tf.Session is deprecated. Please use tf.compat.v1.Session instead.\n",
            "\n",
            "Train on 60000 samples, validate on 10000 samples\n",
            "Epoch 1/10\n",
            "WARNING:tensorflow:From /usr/local/lib/python3.6/dist-packages/keras/backend/tensorflow_backend.py:190: The name tf.get_default_session is deprecated. Please use tf.compat.v1.get_default_session instead.\n",
            "\n",
            "WARNING:tensorflow:From /usr/local/lib/python3.6/dist-packages/keras/backend/tensorflow_backend.py:197: The name tf.ConfigProto is deprecated. Please use tf.compat.v1.ConfigProto instead.\n",
            "\n",
            "WARNING:tensorflow:From /usr/local/lib/python3.6/dist-packages/keras/backend/tensorflow_backend.py:207: The name tf.global_variables is deprecated. Please use tf.compat.v1.global_variables instead.\n",
            "\n",
            "WARNING:tensorflow:From /usr/local/lib/python3.6/dist-packages/keras/backend/tensorflow_backend.py:216: The name tf.is_variable_initialized is deprecated. Please use tf.compat.v1.is_variable_initialized instead.\n",
            "\n",
            "WARNING:tensorflow:From /usr/local/lib/python3.6/dist-packages/keras/backend/tensorflow_backend.py:223: The name tf.variables_initializer is deprecated. Please use tf.compat.v1.variables_initializer instead.\n",
            "\n",
            "60000/60000 [==============================] - 9s 142us/step - loss: 0.0169 - acc: 0.8860 - val_loss: 0.0100 - val_acc: 0.9342\n",
            "Epoch 2/10\n",
            "60000/60000 [==============================] - 8s 133us/step - loss: 0.0077 - acc: 0.9498 - val_loss: 0.0064 - val_acc: 0.9588\n",
            "Epoch 3/10\n",
            "60000/60000 [==============================] - 8s 131us/step - loss: 0.0054 - acc: 0.9653 - val_loss: 0.0058 - val_acc: 0.9623\n",
            "Epoch 4/10\n",
            "60000/60000 [==============================] - 8s 131us/step - loss: 0.0043 - acc: 0.9729 - val_loss: 0.0074 - val_acc: 0.9523\n",
            "Epoch 5/10\n",
            "60000/60000 [==============================] - 8s 135us/step - loss: 0.0037 - acc: 0.9763 - val_loss: 0.0047 - val_acc: 0.9709\n",
            "Epoch 6/10\n",
            "60000/60000 [==============================] - 8s 135us/step - loss: 0.0033 - acc: 0.9796 - val_loss: 0.0045 - val_acc: 0.9719\n",
            "Epoch 7/10\n",
            "60000/60000 [==============================] - 9s 144us/step - loss: 0.0029 - acc: 0.9820 - val_loss: 0.0055 - val_acc: 0.9662\n",
            "Epoch 8/10\n",
            "60000/60000 [==============================] - 8s 139us/step - loss: 0.0027 - acc: 0.9834 - val_loss: 0.0043 - val_acc: 0.9726\n",
            "Epoch 9/10\n",
            "60000/60000 [==============================] - 8s 136us/step - loss: 0.0024 - acc: 0.9851 - val_loss: 0.0036 - val_acc: 0.9781\n",
            "Epoch 10/10\n",
            "60000/60000 [==============================] - 8s 133us/step - loss: 0.0023 - acc: 0.9862 - val_loss: 0.0042 - val_acc: 0.9750\n",
            "Test loss: 0.004180449169459151\n",
            "Test accuracy: 0.975\n"
          ],
          "name": "stdout"
        }
      ]
    },
    {
      "cell_type": "markdown",
      "metadata": {
        "id": "xEnK0HIRih01",
        "colab_type": "text"
      },
      "source": [
        "#mean_absolute_error\n",
        "Test loss: 0.0039689758956085175\n",
        "\n",
        "Test accuracy: 0.9807"
      ]
    },
    {
      "cell_type": "code",
      "metadata": {
        "id": "aJiGk6rmikKW",
        "colab_type": "code",
        "colab": {
          "base_uri": "https://localhost:8080/",
          "height": 442
        },
        "outputId": "69d28963-45c2-4b8f-bcd2-8afaf2601b4a"
      },
      "source": [
        "# Compile model using accuracy\n",
        "model.compile(optimizer='rmsprop',\n",
        "              loss='mean_absolute_error',\n",
        "              metrics=['accuracy'])\n",
        "\n",
        "# Train model\n",
        "model.fit(X_train, y_train,\n",
        "          batch_size=BATCH_SIZE,\n",
        "          epochs=EPOCHS,\n",
        "          verbose=1,\n",
        "          validation_data=(X_test, y_test))\n",
        "\n",
        "score = model.evaluate(X_test, y_test, verbose=0)\n",
        "print('Test loss:', score[0])\n",
        "print('Test accuracy:', score[1])"
      ],
      "execution_count": 3,
      "outputs": [
        {
          "output_type": "stream",
          "text": [
            "Train on 60000 samples, validate on 10000 samples\n",
            "Epoch 1/10\n",
            "60000/60000 [==============================] - 8s 132us/step - loss: 0.0027 - acc: 0.9880 - val_loss: 0.0049 - val_acc: 0.9765\n",
            "Epoch 2/10\n",
            "60000/60000 [==============================] - 8s 132us/step - loss: 0.0024 - acc: 0.9890 - val_loss: 0.0047 - val_acc: 0.9773\n",
            "Epoch 3/10\n",
            "60000/60000 [==============================] - 8s 140us/step - loss: 0.0022 - acc: 0.9896 - val_loss: 0.0046 - val_acc: 0.9775\n",
            "Epoch 4/10\n",
            "60000/60000 [==============================] - 8s 132us/step - loss: 0.0021 - acc: 0.9900 - val_loss: 0.0042 - val_acc: 0.9793\n",
            "Epoch 5/10\n",
            "60000/60000 [==============================] - 8s 130us/step - loss: 0.0020 - acc: 0.9906 - val_loss: 0.0048 - val_acc: 0.9763\n",
            "Epoch 6/10\n",
            "60000/60000 [==============================] - 8s 128us/step - loss: 0.0018 - acc: 0.9915 - val_loss: 0.0044 - val_acc: 0.9786\n",
            "Epoch 7/10\n",
            "60000/60000 [==============================] - 8s 128us/step - loss: 0.0018 - acc: 0.9916 - val_loss: 0.0042 - val_acc: 0.9800\n",
            "Epoch 8/10\n",
            "60000/60000 [==============================] - 8s 128us/step - loss: 0.0016 - acc: 0.9923 - val_loss: 0.0040 - val_acc: 0.9808\n",
            "Epoch 9/10\n",
            "60000/60000 [==============================] - 8s 129us/step - loss: 0.0015 - acc: 0.9930 - val_loss: 0.0047 - val_acc: 0.9772\n",
            "Epoch 10/10\n",
            "60000/60000 [==============================] - 8s 129us/step - loss: 0.0014 - acc: 0.9931 - val_loss: 0.0040 - val_acc: 0.9807\n",
            "Test loss: 0.0039689758956085175\n",
            "Test accuracy: 0.9807\n"
          ],
          "name": "stdout"
        }
      ]
    },
    {
      "cell_type": "markdown",
      "metadata": {
        "id": "4zCL32z2iohf",
        "colab_type": "text"
      },
      "source": [
        "#mean_absolute_percentage_error\n",
        "Test loss: 2020223.1197705513\n",
        "\n",
        "Test accuracy: 0.9803"
      ]
    },
    {
      "cell_type": "code",
      "metadata": {
        "id": "LbVaaKZ8iruw",
        "colab_type": "code",
        "colab": {
          "base_uri": "https://localhost:8080/",
          "height": 442
        },
        "outputId": "b3fe794a-e1e9-47cf-f7cd-4b75e9d99510"
      },
      "source": [
        "# Compile model using accuracy\n",
        "model.compile(optimizer='rmsprop',\n",
        "              loss='mean_absolute_percentage_error',\n",
        "              metrics=['accuracy'])\n",
        "\n",
        "# Train model\n",
        "model.fit(X_train, y_train,\n",
        "          batch_size=BATCH_SIZE,\n",
        "          epochs=EPOCHS,\n",
        "          verbose=1,\n",
        "          validation_data=(X_test, y_test))\n",
        "\n",
        "score = model.evaluate(X_test, y_test, verbose=0)\n",
        "print('Test loss:', score[0])\n",
        "print('Test accuracy:', score[1])"
      ],
      "execution_count": 4,
      "outputs": [
        {
          "output_type": "stream",
          "text": [
            "Train on 60000 samples, validate on 10000 samples\n",
            "Epoch 1/10\n",
            "60000/60000 [==============================] - 8s 132us/step - loss: 718843.7425 - acc: 0.9931 - val_loss: 2029048.1516 - val_acc: 0.9800\n",
            "Epoch 2/10\n",
            "60000/60000 [==============================] - 8s 128us/step - loss: 731344.1590 - acc: 0.9929 - val_loss: 2087172.1088 - val_acc: 0.9792\n",
            "Epoch 3/10\n",
            "60000/60000 [==============================] - 8s 130us/step - loss: 675326.8641 - acc: 0.9935 - val_loss: 2255830.4318 - val_acc: 0.9777\n",
            "Epoch 4/10\n",
            "60000/60000 [==============================] - 8s 128us/step - loss: 656812.8691 - acc: 0.9936 - val_loss: 2398398.0983 - val_acc: 0.9764\n",
            "Epoch 5/10\n",
            "60000/60000 [==============================] - 8s 129us/step - loss: 674529.2632 - acc: 0.9934 - val_loss: 1802646.8676 - val_acc: 0.9822\n",
            "Epoch 6/10\n",
            "60000/60000 [==============================] - 7s 125us/step - loss: 626822.4515 - acc: 0.9940 - val_loss: 2092774.2400 - val_acc: 0.9797\n",
            "Epoch 7/10\n",
            "60000/60000 [==============================] - 8s 129us/step - loss: 607560.2022 - acc: 0.9941 - val_loss: 2237585.6540 - val_acc: 0.9777\n",
            "Epoch 8/10\n",
            "60000/60000 [==============================] - 8s 132us/step - loss: 545568.6450 - acc: 0.9946 - val_loss: 2057185.5702 - val_acc: 0.9796\n",
            "Epoch 9/10\n",
            "60000/60000 [==============================] - 8s 129us/step - loss: 526737.9964 - acc: 0.9948 - val_loss: 2092209.8060 - val_acc: 0.9795\n",
            "Epoch 10/10\n",
            "60000/60000 [==============================] - 8s 127us/step - loss: 528447.0389 - acc: 0.9949 - val_loss: 2020223.0317 - val_acc: 0.9803\n",
            "Test loss: 2020223.1197705513\n",
            "Test accuracy: 0.9803\n"
          ],
          "name": "stdout"
        }
      ]
    },
    {
      "cell_type": "markdown",
      "metadata": {
        "id": "wDT2uAtfiuXH",
        "colab_type": "text"
      },
      "source": [
        "#mean_squared_logarithmic_error\n",
        "Test loss: 0.0015869750699269959\n",
        "\n",
        "Test accuracy: 0.9827"
      ]
    },
    {
      "cell_type": "code",
      "metadata": {
        "id": "Tbm0lJwNixJm",
        "colab_type": "code",
        "colab": {
          "base_uri": "https://localhost:8080/",
          "height": 554
        },
        "outputId": "83cbcc6f-1586-47ab-e427-d31519ef272d"
      },
      "source": [
        "# Compile model using accuracy\n",
        "model.compile(optimizer='rmsprop',\n",
        "              loss='mean_squared_logarithmic_error',\n",
        "              metrics=['accuracy'])\n",
        "\n",
        "# Train model\n",
        "model.fit(X_train, y_train,\n",
        "          batch_size=BATCH_SIZE,\n",
        "          epochs=EPOCHS,\n",
        "          verbose=1,\n",
        "          validation_data=(X_test, y_test))\n",
        "\n",
        "score = model.evaluate(X_test, y_test, verbose=0)\n",
        "print('Test loss:', score[0])\n",
        "print('Test accuracy:', score[1])"
      ],
      "execution_count": 5,
      "outputs": [
        {
          "output_type": "stream",
          "text": [
            "WARNING:tensorflow:From /usr/local/lib/python3.6/dist-packages/keras/backend/tensorflow_backend.py:1702: The name tf.log is deprecated. Please use tf.math.log instead.\n",
            "\n",
            "WARNING:tensorflow:From /usr/local/lib/python3.6/dist-packages/tensorflow_core/python/ops/math_grad.py:1424: where (from tensorflow.python.ops.array_ops) is deprecated and will be removed in a future version.\n",
            "Instructions for updating:\n",
            "Use tf.where in 2.0, which has the same broadcast rule as np.where\n",
            "Train on 60000 samples, validate on 10000 samples\n",
            "Epoch 1/10\n",
            "60000/60000 [==============================] - 8s 134us/step - loss: 5.0990e-04 - acc: 0.9943 - val_loss: 0.0017 - val_acc: 0.9800\n",
            "Epoch 2/10\n",
            "60000/60000 [==============================] - 8s 131us/step - loss: 4.9867e-04 - acc: 0.9945 - val_loss: 0.0018 - val_acc: 0.9801\n",
            "Epoch 3/10\n",
            "60000/60000 [==============================] - 8s 129us/step - loss: 5.0574e-04 - acc: 0.9943 - val_loss: 0.0020 - val_acc: 0.9780\n",
            "Epoch 4/10\n",
            "60000/60000 [==============================] - 8s 126us/step - loss: 5.1135e-04 - acc: 0.9942 - val_loss: 0.0018 - val_acc: 0.9800\n",
            "Epoch 5/10\n",
            "60000/60000 [==============================] - 8s 128us/step - loss: 4.9494e-04 - acc: 0.9945 - val_loss: 0.0018 - val_acc: 0.9806\n",
            "Epoch 6/10\n",
            "60000/60000 [==============================] - 8s 129us/step - loss: 5.1677e-04 - acc: 0.9943 - val_loss: 0.0019 - val_acc: 0.9799\n",
            "Epoch 7/10\n",
            "60000/60000 [==============================] - 8s 130us/step - loss: 4.9397e-04 - acc: 0.9945 - val_loss: 0.0019 - val_acc: 0.9787\n",
            "Epoch 8/10\n",
            "60000/60000 [==============================] - 8s 130us/step - loss: 4.7806e-04 - acc: 0.9947 - val_loss: 0.0018 - val_acc: 0.9801\n",
            "Epoch 9/10\n",
            "60000/60000 [==============================] - 8s 126us/step - loss: 4.3958e-04 - acc: 0.9951 - val_loss: 0.0020 - val_acc: 0.9784\n",
            "Epoch 10/10\n",
            "60000/60000 [==============================] - 8s 128us/step - loss: 4.8220e-04 - acc: 0.9945 - val_loss: 0.0016 - val_acc: 0.9827\n",
            "Test loss: 0.0015869750699269959\n",
            "Test accuracy: 0.9827\n"
          ],
          "name": "stdout"
        }
      ]
    },
    {
      "cell_type": "markdown",
      "metadata": {
        "id": "jLY0Km_mi0PA",
        "colab_type": "text"
      },
      "source": [
        "#squared_hinge\n",
        "Test loss: 0.9019020906448364\n",
        "\n",
        "Test accuracy: 0.9802"
      ]
    },
    {
      "cell_type": "code",
      "metadata": {
        "id": "hXoHk504i2e7",
        "colab_type": "code",
        "colab": {
          "base_uri": "https://localhost:8080/",
          "height": 442
        },
        "outputId": "e6a5ef2f-811e-4833-90ba-6444898fb16b"
      },
      "source": [
        "# Compile model using accuracy\n",
        "model.compile(optimizer='rmsprop',\n",
        "              loss='squared_hinge',\n",
        "              metrics=['accuracy'])\n",
        "\n",
        "# Train model\n",
        "model.fit(X_train, y_train,\n",
        "          batch_size=BATCH_SIZE,\n",
        "          epochs=EPOCHS,\n",
        "          verbose=1,\n",
        "          validation_data=(X_test, y_test))\n",
        "\n",
        "score = model.evaluate(X_test, y_test, verbose=0)\n",
        "print('Test loss:', score[0])\n",
        "print('Test accuracy:', score[1])"
      ],
      "execution_count": 6,
      "outputs": [
        {
          "output_type": "stream",
          "text": [
            "Train on 60000 samples, validate on 10000 samples\n",
            "Epoch 1/10\n",
            "60000/60000 [==============================] - 8s 127us/step - loss: 0.9005 - acc: 0.9950 - val_loss: 0.9019 - val_acc: 0.9796\n",
            "Epoch 2/10\n",
            "60000/60000 [==============================] - 8s 125us/step - loss: 0.9005 - acc: 0.9949 - val_loss: 0.9019 - val_acc: 0.9792\n",
            "Epoch 3/10\n",
            "60000/60000 [==============================] - 8s 125us/step - loss: 0.9004 - acc: 0.9955 - val_loss: 0.9019 - val_acc: 0.9802\n",
            "Epoch 4/10\n",
            "60000/60000 [==============================] - 7s 123us/step - loss: 0.9004 - acc: 0.9957 - val_loss: 0.9020 - val_acc: 0.9790\n",
            "Epoch 5/10\n",
            "60000/60000 [==============================] - 7s 124us/step - loss: 0.9004 - acc: 0.9953 - val_loss: 0.9020 - val_acc: 0.9794\n",
            "Epoch 6/10\n",
            "60000/60000 [==============================] - 8s 131us/step - loss: 0.9004 - acc: 0.9957 - val_loss: 0.9019 - val_acc: 0.9795\n",
            "Epoch 7/10\n",
            "60000/60000 [==============================] - 8s 129us/step - loss: 0.9004 - acc: 0.9959 - val_loss: 0.9019 - val_acc: 0.9804\n",
            "Epoch 8/10\n",
            "60000/60000 [==============================] - 8s 126us/step - loss: 0.9004 - acc: 0.9957 - val_loss: 0.9020 - val_acc: 0.9785\n",
            "Epoch 9/10\n",
            "60000/60000 [==============================] - 7s 121us/step - loss: 0.9004 - acc: 0.9958 - val_loss: 0.9020 - val_acc: 0.9794\n",
            "Epoch 10/10\n",
            "60000/60000 [==============================] - 7s 125us/step - loss: 0.9004 - acc: 0.9962 - val_loss: 0.9019 - val_acc: 0.9802\n",
            "Test loss: 0.9019020906448364\n",
            "Test accuracy: 0.9802\n"
          ],
          "name": "stdout"
        }
      ]
    },
    {
      "cell_type": "markdown",
      "metadata": {
        "id": "7hc5-jeei5PL",
        "colab_type": "text"
      },
      "source": [
        "#hinge\n",
        "Test loss: 0.9018984371185302\n",
        "\n",
        "Test accuracy: 0.9813"
      ]
    },
    {
      "cell_type": "code",
      "metadata": {
        "id": "hkbwuZ5li7oL",
        "colab_type": "code",
        "colab": {
          "base_uri": "https://localhost:8080/",
          "height": 442
        },
        "outputId": "27ae7dc6-03fd-4596-cf7e-b27cedf0b8bf"
      },
      "source": [
        "# Compile model using accuracy\n",
        "model.compile(optimizer='rmsprop',\n",
        "              loss='hinge',\n",
        "              metrics=['accuracy'])\n",
        "\n",
        "# Train model\n",
        "model.fit(X_train, y_train,\n",
        "          batch_size=BATCH_SIZE,\n",
        "          epochs=EPOCHS,\n",
        "          verbose=1,\n",
        "          validation_data=(X_test, y_test))\n",
        "\n",
        "score = model.evaluate(X_test, y_test, verbose=0)\n",
        "print('Test loss:', score[0])\n",
        "print('Test accuracy:', score[1])"
      ],
      "execution_count": 7,
      "outputs": [
        {
          "output_type": "stream",
          "text": [
            "Train on 60000 samples, validate on 10000 samples\n",
            "Epoch 1/10\n",
            "60000/60000 [==============================] - 8s 129us/step - loss: 0.9004 - acc: 0.9961 - val_loss: 0.9022 - val_acc: 0.9783\n",
            "Epoch 2/10\n",
            "60000/60000 [==============================] - 7s 124us/step - loss: 0.9004 - acc: 0.9962 - val_loss: 0.9020 - val_acc: 0.9803\n",
            "Epoch 3/10\n",
            "60000/60000 [==============================] - 7s 123us/step - loss: 0.9004 - acc: 0.9963 - val_loss: 0.9020 - val_acc: 0.9802\n",
            "Epoch 4/10\n",
            "60000/60000 [==============================] - 7s 122us/step - loss: 0.9004 - acc: 0.9962 - val_loss: 0.9020 - val_acc: 0.9799\n",
            "Epoch 5/10\n",
            "60000/60000 [==============================] - 7s 120us/step - loss: 0.9004 - acc: 0.9961 - val_loss: 0.9019 - val_acc: 0.9810\n",
            "Epoch 6/10\n",
            "60000/60000 [==============================] - 7s 122us/step - loss: 0.9004 - acc: 0.9965 - val_loss: 0.9020 - val_acc: 0.9803\n",
            "Epoch 7/10\n",
            "60000/60000 [==============================] - 7s 118us/step - loss: 0.9004 - acc: 0.9962 - val_loss: 0.9020 - val_acc: 0.9806\n",
            "Epoch 8/10\n",
            "60000/60000 [==============================] - 7s 122us/step - loss: 0.9004 - acc: 0.9963 - val_loss: 0.9019 - val_acc: 0.9809\n",
            "Epoch 9/10\n",
            "60000/60000 [==============================] - 7s 122us/step - loss: 0.9003 - acc: 0.9966 - val_loss: 0.9019 - val_acc: 0.9818\n",
            "Epoch 10/10\n",
            "60000/60000 [==============================] - 7s 121us/step - loss: 0.9004 - acc: 0.9964 - val_loss: 0.9019 - val_acc: 0.9813\n",
            "Test loss: 0.9018984371185302\n",
            "Test accuracy: 0.9813\n"
          ],
          "name": "stdout"
        }
      ]
    },
    {
      "cell_type": "markdown",
      "metadata": {
        "id": "LRoSjzqNjCwi",
        "colab_type": "text"
      },
      "source": [
        "#categorical_hinge\n",
        "Test loss: 0.03298671157352946\n",
        "\n",
        "Test accuracy: 0.9833"
      ]
    },
    {
      "cell_type": "code",
      "metadata": {
        "id": "UOrswDfMjF__",
        "colab_type": "code",
        "colab": {
          "base_uri": "https://localhost:8080/",
          "height": 442
        },
        "outputId": "fc4afcfe-472b-4d7b-f43a-6c0765640d02"
      },
      "source": [
        "# Compile model using accuracy\n",
        "model.compile(optimizer='rmsprop',\n",
        "              loss='categorical_hinge',\n",
        "              metrics=['accuracy'])\n",
        "\n",
        "# Train model\n",
        "model.fit(X_train, y_train,\n",
        "          batch_size=BATCH_SIZE,\n",
        "          epochs=EPOCHS,\n",
        "          verbose=1,\n",
        "          validation_data=(X_test, y_test))\n",
        "\n",
        "score = model.evaluate(X_test, y_test, verbose=0)\n",
        "print('Test loss:', score[0])\n",
        "print('Test accuracy:', score[1])"
      ],
      "execution_count": 8,
      "outputs": [
        {
          "output_type": "stream",
          "text": [
            "Train on 60000 samples, validate on 10000 samples\n",
            "Epoch 1/10\n",
            "60000/60000 [==============================] - 8s 128us/step - loss: 0.0074 - acc: 0.9963 - val_loss: 0.0392 - val_acc: 0.9802\n",
            "Epoch 2/10\n",
            "60000/60000 [==============================] - 7s 122us/step - loss: 0.0075 - acc: 0.9963 - val_loss: 0.0381 - val_acc: 0.9809\n",
            "Epoch 3/10\n",
            "60000/60000 [==============================] - 7s 121us/step - loss: 0.0073 - acc: 0.9964 - val_loss: 0.0372 - val_acc: 0.9815\n",
            "Epoch 4/10\n",
            "60000/60000 [==============================] - 7s 124us/step - loss: 0.0066 - acc: 0.9967 - val_loss: 0.0410 - val_acc: 0.9794\n",
            "Epoch 5/10\n",
            "60000/60000 [==============================] - 7s 118us/step - loss: 0.0069 - acc: 0.9966 - val_loss: 0.0351 - val_acc: 0.9823\n",
            "Epoch 6/10\n",
            "60000/60000 [==============================] - 7s 123us/step - loss: 0.0069 - acc: 0.9965 - val_loss: 0.0386 - val_acc: 0.9807\n",
            "Epoch 7/10\n",
            "60000/60000 [==============================] - 8s 126us/step - loss: 0.0073 - acc: 0.9965 - val_loss: 0.0375 - val_acc: 0.9811\n",
            "Epoch 8/10\n",
            "60000/60000 [==============================] - 7s 123us/step - loss: 0.0069 - acc: 0.9966 - val_loss: 0.0387 - val_acc: 0.9805\n",
            "Epoch 9/10\n",
            "60000/60000 [==============================] - 7s 123us/step - loss: 0.0067 - acc: 0.9967 - val_loss: 0.0384 - val_acc: 0.9805\n",
            "Epoch 10/10\n",
            "60000/60000 [==============================] - 7s 123us/step - loss: 0.0071 - acc: 0.9965 - val_loss: 0.0330 - val_acc: 0.9833\n",
            "Test loss: 0.03298671157352946\n",
            "Test accuracy: 0.9833\n"
          ],
          "name": "stdout"
        }
      ]
    },
    {
      "cell_type": "markdown",
      "metadata": {
        "id": "VF0cEwoxjIXn",
        "colab_type": "text"
      },
      "source": [
        "#logcosh\n",
        "Test loss: 0.001641860058221939\n",
        "\n",
        "Test accuracy: 0.9803"
      ]
    },
    {
      "cell_type": "code",
      "metadata": {
        "id": "V4A7M01bjLap",
        "colab_type": "code",
        "colab": {
          "base_uri": "https://localhost:8080/",
          "height": 442
        },
        "outputId": "d77809a7-a3cd-45cb-fbc1-bbbefaca9c97"
      },
      "source": [
        "# Compile model using accuracy\n",
        "model.compile(optimizer='rmsprop',\n",
        "              loss='logcosh',\n",
        "              metrics=['accuracy'])\n",
        "\n",
        "# Train model\n",
        "model.fit(X_train, y_train,\n",
        "          batch_size=BATCH_SIZE,\n",
        "          epochs=EPOCHS,\n",
        "          verbose=1,\n",
        "          validation_data=(X_test, y_test))\n",
        "\n",
        "score = model.evaluate(X_test, y_test, verbose=0)\n",
        "print('Test loss:', score[0])\n",
        "print('Test accuracy:', score[1])"
      ],
      "execution_count": 9,
      "outputs": [
        {
          "output_type": "stream",
          "text": [
            "Train on 60000 samples, validate on 10000 samples\n",
            "Epoch 1/10\n",
            "60000/60000 [==============================] - 8s 127us/step - loss: 2.7804e-04 - acc: 0.9967 - val_loss: 0.0016 - val_acc: 0.9810\n",
            "Epoch 2/10\n",
            "60000/60000 [==============================] - 7s 121us/step - loss: 2.9119e-04 - acc: 0.9965 - val_loss: 0.0013 - val_acc: 0.9840\n",
            "Epoch 3/10\n",
            "60000/60000 [==============================] - 7s 117us/step - loss: 2.9868e-04 - acc: 0.9964 - val_loss: 0.0016 - val_acc: 0.9810\n",
            "Epoch 4/10\n",
            "60000/60000 [==============================] - 7s 121us/step - loss: 3.0673e-04 - acc: 0.9963 - val_loss: 0.0015 - val_acc: 0.9824\n",
            "Epoch 5/10\n",
            "60000/60000 [==============================] - 7s 123us/step - loss: 3.5431e-04 - acc: 0.9958 - val_loss: 0.0015 - val_acc: 0.9818\n",
            "Epoch 6/10\n",
            "60000/60000 [==============================] - 7s 120us/step - loss: 3.0892e-04 - acc: 0.9963 - val_loss: 0.0016 - val_acc: 0.9804\n",
            "Epoch 7/10\n",
            "60000/60000 [==============================] - 7s 121us/step - loss: 3.0321e-04 - acc: 0.9963 - val_loss: 0.0016 - val_acc: 0.9808\n",
            "Epoch 8/10\n",
            "60000/60000 [==============================] - 7s 122us/step - loss: 3.0502e-04 - acc: 0.9964 - val_loss: 0.0015 - val_acc: 0.9816\n",
            "Epoch 9/10\n",
            "60000/60000 [==============================] - 7s 122us/step - loss: 3.0617e-04 - acc: 0.9963 - val_loss: 0.0017 - val_acc: 0.9795\n",
            "Epoch 10/10\n",
            "60000/60000 [==============================] - 7s 122us/step - loss: 3.1398e-04 - acc: 0.9962 - val_loss: 0.0016 - val_acc: 0.9803\n",
            "Test loss: 0.001641860058221939\n",
            "Test accuracy: 0.9803\n"
          ],
          "name": "stdout"
        }
      ]
    },
    {
      "cell_type": "markdown",
      "metadata": {
        "id": "KZ0bv-eXjbXu",
        "colab_type": "text"
      },
      "source": [
        "#categorical_crossentropy\n",
        "Test loss: 0.2275461367677889\n",
        "\n",
        "Test accuracy: 0.9815"
      ]
    },
    {
      "cell_type": "code",
      "metadata": {
        "id": "b-XrpX7Ajd_Z",
        "colab_type": "code",
        "colab": {
          "base_uri": "https://localhost:8080/",
          "height": 442
        },
        "outputId": "1a99b60e-46bb-49f6-a9ba-d1d6500c4b4e"
      },
      "source": [
        "# Compile model using accuracy\n",
        "model.compile(optimizer='rmsprop',\n",
        "              loss='categorical_crossentropy',\n",
        "              metrics=['accuracy'])\n",
        "\n",
        "# Train model\n",
        "model.fit(X_train, y_train,\n",
        "          batch_size=BATCH_SIZE,\n",
        "          epochs=EPOCHS,\n",
        "          verbose=1,\n",
        "          validation_data=(X_test, y_test))\n",
        "\n",
        "score = model.evaluate(X_test, y_test, verbose=0)\n",
        "print('Test loss:', score[0])\n",
        "print('Test accuracy:', score[1])"
      ],
      "execution_count": 10,
      "outputs": [
        {
          "output_type": "stream",
          "text": [
            "Train on 60000 samples, validate on 10000 samples\n",
            "Epoch 1/10\n",
            "60000/60000 [==============================] - 8s 128us/step - loss: 0.0425 - acc: 0.9967 - val_loss: 0.2259 - val_acc: 0.9814\n",
            "Epoch 2/10\n",
            "60000/60000 [==============================] - 7s 123us/step - loss: 0.0420 - acc: 0.9969 - val_loss: 0.2274 - val_acc: 0.9814\n",
            "Epoch 3/10\n",
            "60000/60000 [==============================] - 7s 122us/step - loss: 0.0398 - acc: 0.9972 - val_loss: 0.2293 - val_acc: 0.9800\n",
            "Epoch 4/10\n",
            "60000/60000 [==============================] - 7s 120us/step - loss: 0.0421 - acc: 0.9969 - val_loss: 0.2501 - val_acc: 0.9796\n",
            "Epoch 5/10\n",
            "60000/60000 [==============================] - 7s 115us/step - loss: 0.0402 - acc: 0.9972 - val_loss: 0.2347 - val_acc: 0.9808\n",
            "Epoch 6/10\n",
            "60000/60000 [==============================] - 7s 118us/step - loss: 0.0393 - acc: 0.9973 - val_loss: 0.2427 - val_acc: 0.9797\n",
            "Epoch 7/10\n",
            "60000/60000 [==============================] - 7s 118us/step - loss: 0.0417 - acc: 0.9968 - val_loss: 0.2417 - val_acc: 0.9805\n",
            "Epoch 8/10\n",
            "60000/60000 [==============================] - 7s 124us/step - loss: 0.0405 - acc: 0.9970 - val_loss: 0.2486 - val_acc: 0.9794\n",
            "Epoch 9/10\n",
            "60000/60000 [==============================] - 7s 125us/step - loss: 0.0398 - acc: 0.9970 - val_loss: 0.2255 - val_acc: 0.9806\n",
            "Epoch 10/10\n",
            "60000/60000 [==============================] - 7s 117us/step - loss: 0.0382 - acc: 0.9973 - val_loss: 0.2275 - val_acc: 0.9815\n",
            "Test loss: 0.2275461367677889\n",
            "Test accuracy: 0.9815\n"
          ],
          "name": "stdout"
        }
      ]
    },
    {
      "cell_type": "markdown",
      "metadata": {
        "id": "j2hMi0U5jk4d",
        "colab_type": "text"
      },
      "source": [
        "#binary_crossentropy\n",
        "Test loss: 0.04389527298801478\n",
        "\n",
        "Test accuracy: 0.9961599960327149"
      ]
    },
    {
      "cell_type": "code",
      "metadata": {
        "id": "YDLqW8otjnUZ",
        "colab_type": "code",
        "colab": {
          "base_uri": "https://localhost:8080/",
          "height": 442
        },
        "outputId": "2f2aaaef-f109-4880-930b-9f9c25cc0cb4"
      },
      "source": [
        "# Compile model using accuracy\n",
        "model.compile(optimizer='rmsprop',\n",
        "              loss='binary_crossentropy',\n",
        "              metrics=['accuracy'])\n",
        "\n",
        "# Train model\n",
        "model.fit(X_train, y_train,\n",
        "          batch_size=BATCH_SIZE,\n",
        "          epochs=EPOCHS,\n",
        "          verbose=1,\n",
        "          validation_data=(X_test, y_test))\n",
        "\n",
        "score = model.evaluate(X_test, y_test, verbose=0)\n",
        "print('Test loss:', score[0])\n",
        "print('Test accuracy:', score[1])"
      ],
      "execution_count": 11,
      "outputs": [
        {
          "output_type": "stream",
          "text": [
            "Train on 60000 samples, validate on 10000 samples\n",
            "Epoch 1/10\n",
            "60000/60000 [==============================] - 8s 127us/step - loss: 0.0079 - acc: 0.9994 - val_loss: 0.0428 - val_acc: 0.9961\n",
            "Epoch 2/10\n",
            "60000/60000 [==============================] - 7s 115us/step - loss: 0.0079 - acc: 0.9994 - val_loss: 0.0450 - val_acc: 0.9960\n",
            "Epoch 3/10\n",
            "60000/60000 [==============================] - 7s 114us/step - loss: 0.0086 - acc: 0.9993 - val_loss: 0.0461 - val_acc: 0.9961\n",
            "Epoch 4/10\n",
            "60000/60000 [==============================] - 7s 122us/step - loss: 0.0077 - acc: 0.9994 - val_loss: 0.0449 - val_acc: 0.9961\n",
            "Epoch 5/10\n",
            "60000/60000 [==============================] - 7s 118us/step - loss: 0.0078 - acc: 0.9994 - val_loss: 0.0428 - val_acc: 0.9963\n",
            "Epoch 6/10\n",
            "60000/60000 [==============================] - 7s 121us/step - loss: 0.0075 - acc: 0.9994 - val_loss: 0.0462 - val_acc: 0.9960\n",
            "Epoch 7/10\n",
            "60000/60000 [==============================] - 7s 121us/step - loss: 0.0074 - acc: 0.9994 - val_loss: 0.0454 - val_acc: 0.9963\n",
            "Epoch 8/10\n",
            "60000/60000 [==============================] - 7s 115us/step - loss: 0.0076 - acc: 0.9994 - val_loss: 0.0482 - val_acc: 0.9960\n",
            "Epoch 9/10\n",
            "60000/60000 [==============================] - 7s 116us/step - loss: 0.0076 - acc: 0.9994 - val_loss: 0.0424 - val_acc: 0.9964\n",
            "Epoch 10/10\n",
            "60000/60000 [==============================] - 7s 118us/step - loss: 0.0076 - acc: 0.9994 - val_loss: 0.0439 - val_acc: 0.9962\n",
            "Test loss: 0.04389527298801478\n",
            "Test accuracy: 0.9961599960327149\n"
          ],
          "name": "stdout"
        }
      ]
    },
    {
      "cell_type": "markdown",
      "metadata": {
        "id": "stvo_lw6jqcT",
        "colab_type": "text"
      },
      "source": [
        "#kullback_leibler_divergence\n",
        "Test loss: 0.25006247023353534\n",
        "\n",
        "Test accuracy: 0.9805"
      ]
    },
    {
      "cell_type": "code",
      "metadata": {
        "id": "m6MTeFaHjs4D",
        "colab_type": "code",
        "colab": {
          "base_uri": "https://localhost:8080/",
          "height": 442
        },
        "outputId": "31f514f9-b327-4b12-b950-84180d6173df"
      },
      "source": [
        "# Compile model using accuracy\n",
        "model.compile(optimizer='rmsprop',\n",
        "              loss='kullback_leibler_divergence',\n",
        "              metrics=['accuracy'])\n",
        "\n",
        "# Train model\n",
        "model.fit(X_train, y_train,\n",
        "          batch_size=BATCH_SIZE,\n",
        "          epochs=EPOCHS,\n",
        "          verbose=1,\n",
        "          validation_data=(X_test, y_test))\n",
        "\n",
        "score = model.evaluate(X_test, y_test, verbose=0)\n",
        "print('Test loss:', score[0])\n",
        "print('Test accuracy:', score[1])"
      ],
      "execution_count": 12,
      "outputs": [
        {
          "output_type": "stream",
          "text": [
            "Train on 60000 samples, validate on 10000 samples\n",
            "Epoch 1/10\n",
            "60000/60000 [==============================] - 8s 125us/step - loss: 0.0400 - acc: 0.9970 - val_loss: 0.2361 - val_acc: 0.9801\n",
            "Epoch 2/10\n",
            "60000/60000 [==============================] - 7s 117us/step - loss: 0.0370 - acc: 0.9974 - val_loss: 0.2251 - val_acc: 0.9813\n",
            "Epoch 3/10\n",
            "60000/60000 [==============================] - 7s 118us/step - loss: 0.0353 - acc: 0.9975 - val_loss: 0.2291 - val_acc: 0.9811\n",
            "Epoch 4/10\n",
            "60000/60000 [==============================] - 7s 116us/step - loss: 0.0362 - acc: 0.9974 - val_loss: 0.2216 - val_acc: 0.9816\n",
            "Epoch 5/10\n",
            "60000/60000 [==============================] - 7s 119us/step - loss: 0.0351 - acc: 0.9975 - val_loss: 0.2181 - val_acc: 0.9816\n",
            "Epoch 6/10\n",
            "60000/60000 [==============================] - 7s 113us/step - loss: 0.0346 - acc: 0.9976 - val_loss: 0.2360 - val_acc: 0.9818\n",
            "Epoch 7/10\n",
            "60000/60000 [==============================] - 7s 116us/step - loss: 0.0338 - acc: 0.9977 - val_loss: 0.2391 - val_acc: 0.9812\n",
            "Epoch 8/10\n",
            "60000/60000 [==============================] - 7s 117us/step - loss: 0.0344 - acc: 0.9976 - val_loss: 0.2603 - val_acc: 0.9799\n",
            "Epoch 9/10\n",
            "60000/60000 [==============================] - 7s 117us/step - loss: 0.0343 - acc: 0.9977 - val_loss: 0.2385 - val_acc: 0.9801\n",
            "Epoch 10/10\n",
            "60000/60000 [==============================] - 7s 116us/step - loss: 0.0356 - acc: 0.9974 - val_loss: 0.2501 - val_acc: 0.9805\n",
            "Test loss: 0.25006247023353534\n",
            "Test accuracy: 0.9805\n"
          ],
          "name": "stdout"
        }
      ]
    },
    {
      "cell_type": "markdown",
      "metadata": {
        "id": "co28pTxijuyE",
        "colab_type": "text"
      },
      "source": [
        "#poisson\n",
        "Test loss: 0.1248887144446373\n",
        "\n",
        "Test accuracy: 0.9808"
      ]
    },
    {
      "cell_type": "code",
      "metadata": {
        "id": "J7uvZNh_jxXd",
        "colab_type": "code",
        "colab": {
          "base_uri": "https://localhost:8080/",
          "height": 442
        },
        "outputId": "9b6b8c87-2364-4c13-97dc-e615f2cebcb8"
      },
      "source": [
        "# Compile model using accuracy\n",
        "model.compile(optimizer='rmsprop',\n",
        "              loss='poisson',\n",
        "              metrics=['accuracy'])\n",
        "\n",
        "# Train model\n",
        "model.fit(X_train, y_train,\n",
        "          batch_size=BATCH_SIZE,\n",
        "          epochs=EPOCHS,\n",
        "          verbose=1,\n",
        "          validation_data=(X_test, y_test))\n",
        "\n",
        "score = model.evaluate(X_test, y_test, verbose=0)\n",
        "print('Test loss:', score[0])\n",
        "print('Test accuracy:', score[1])"
      ],
      "execution_count": 13,
      "outputs": [
        {
          "output_type": "stream",
          "text": [
            "Train on 60000 samples, validate on 10000 samples\n",
            "Epoch 1/10\n",
            "60000/60000 [==============================] - 8s 130us/step - loss: 0.1036 - acc: 0.9974 - val_loss: 0.1250 - val_acc: 0.9805\n",
            "Epoch 2/10\n",
            "60000/60000 [==============================] - 7s 117us/step - loss: 0.1036 - acc: 0.9974 - val_loss: 0.1233 - val_acc: 0.9812\n",
            "Epoch 3/10\n",
            "60000/60000 [==============================] - 7s 120us/step - loss: 0.1034 - acc: 0.9975 - val_loss: 0.1240 - val_acc: 0.9810\n",
            "Epoch 4/10\n",
            "60000/60000 [==============================] - 7s 119us/step - loss: 0.1034 - acc: 0.9976 - val_loss: 0.1252 - val_acc: 0.9792\n",
            "Epoch 5/10\n",
            "60000/60000 [==============================] - 7s 117us/step - loss: 0.1034 - acc: 0.9976 - val_loss: 0.1234 - val_acc: 0.9800\n",
            "Epoch 6/10\n",
            "60000/60000 [==============================] - 7s 118us/step - loss: 0.1034 - acc: 0.9975 - val_loss: 0.1223 - val_acc: 0.9826\n",
            "Epoch 7/10\n",
            "60000/60000 [==============================] - 7s 121us/step - loss: 0.1033 - acc: 0.9976 - val_loss: 0.1224 - val_acc: 0.9823\n",
            "Epoch 8/10\n",
            "60000/60000 [==============================] - 7s 121us/step - loss: 0.1032 - acc: 0.9978 - val_loss: 0.1252 - val_acc: 0.9794\n",
            "Epoch 9/10\n",
            "60000/60000 [==============================] - 7s 121us/step - loss: 0.1032 - acc: 0.9977 - val_loss: 0.1239 - val_acc: 0.9800\n",
            "Epoch 10/10\n",
            "60000/60000 [==============================] - 7s 121us/step - loss: 0.1034 - acc: 0.9975 - val_loss: 0.1249 - val_acc: 0.9808\n",
            "Test loss: 0.1248887144446373\n",
            "Test accuracy: 0.9808\n"
          ],
          "name": "stdout"
        }
      ]
    },
    {
      "cell_type": "markdown",
      "metadata": {
        "id": "fzJ8kS6Mj1iS",
        "colab_type": "text"
      },
      "source": [
        "#cosine_proximity\n",
        "Test loss: -0.9817573286056519\n",
        "\n",
        "Test accuracy: 0.9813"
      ]
    },
    {
      "cell_type": "code",
      "metadata": {
        "id": "sgC8iO8Lj4Ie",
        "colab_type": "code",
        "colab": {
          "base_uri": "https://localhost:8080/",
          "height": 442
        },
        "outputId": "b6a9eae6-bbcc-47a6-c9e5-fd0a748a1df1"
      },
      "source": [
        "# Compile model using accuracy\n",
        "model.compile(optimizer='rmsprop',\n",
        "              loss='cosine_proximity',\n",
        "              metrics=['accuracy'])\n",
        "\n",
        "# Train model\n",
        "model.fit(X_train, y_train,\n",
        "          batch_size=BATCH_SIZE,\n",
        "          epochs=EPOCHS,\n",
        "          verbose=1,\n",
        "          validation_data=(X_test, y_test))\n",
        "\n",
        "score = model.evaluate(X_test, y_test, verbose=0)\n",
        "print('Test loss:', score[0])\n",
        "print('Test accuracy:', score[1])"
      ],
      "execution_count": 14,
      "outputs": [
        {
          "output_type": "stream",
          "text": [
            "Train on 60000 samples, validate on 10000 samples\n",
            "Epoch 1/10\n",
            "60000/60000 [==============================] - 8s 130us/step - loss: -0.9976 - acc: 0.9976 - val_loss: -0.9814 - val_acc: 0.9808\n",
            "Epoch 2/10\n",
            "60000/60000 [==============================] - 7s 116us/step - loss: -0.9978 - acc: 0.9978 - val_loss: -0.9815 - val_acc: 0.9811\n",
            "Epoch 3/10\n",
            "60000/60000 [==============================] - 7s 117us/step - loss: -0.9978 - acc: 0.9978 - val_loss: -0.9812 - val_acc: 0.9808\n",
            "Epoch 4/10\n",
            "60000/60000 [==============================] - 7s 119us/step - loss: -0.9978 - acc: 0.9978 - val_loss: -0.9820 - val_acc: 0.9816\n",
            "Epoch 5/10\n",
            "60000/60000 [==============================] - 7s 120us/step - loss: -0.9976 - acc: 0.9976 - val_loss: -0.9816 - val_acc: 0.9812\n",
            "Epoch 6/10\n",
            "60000/60000 [==============================] - 7s 118us/step - loss: -0.9978 - acc: 0.9978 - val_loss: -0.9818 - val_acc: 0.9815\n",
            "Epoch 7/10\n",
            "60000/60000 [==============================] - 7s 118us/step - loss: -0.9975 - acc: 0.9975 - val_loss: -0.9831 - val_acc: 0.9829\n",
            "Epoch 8/10\n",
            "60000/60000 [==============================] - 7s 119us/step - loss: -0.9978 - acc: 0.9978 - val_loss: -0.9818 - val_acc: 0.9815\n",
            "Epoch 9/10\n",
            "60000/60000 [==============================] - 7s 117us/step - loss: -0.9978 - acc: 0.9977 - val_loss: -0.9820 - val_acc: 0.9816\n",
            "Epoch 10/10\n",
            "60000/60000 [==============================] - 7s 118us/step - loss: -0.9977 - acc: 0.9976 - val_loss: -0.9818 - val_acc: 0.9813\n",
            "Test loss: -0.9817573286056519\n",
            "Test accuracy: 0.9813\n"
          ],
          "name": "stdout"
        }
      ]
    },
    {
      "cell_type": "markdown",
      "metadata": {
        "id": "G0X2fr_n5nWG",
        "colab_type": "text"
      },
      "source": [
        "#Thank you for completing this notebook"
      ]
    }
  ]
}