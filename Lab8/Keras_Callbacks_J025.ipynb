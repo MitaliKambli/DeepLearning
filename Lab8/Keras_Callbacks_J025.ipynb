{
  "nbformat": 4,
  "nbformat_minor": 0,
  "metadata": {
    "colab": {
      "name": "Keras-Callbacks_J025.ipynb",
      "provenance": [],
      "collapsed_sections": [],
      "include_colab_link": true
    },
    "kernelspec": {
      "name": "python3",
      "display_name": "Python 3"
    }
  },
  "cells": [
    {
      "cell_type": "markdown",
      "metadata": {
        "id": "view-in-github",
        "colab_type": "text"
      },
      "source": [
        "<a href=\"https://colab.research.google.com/github/MitaliKambli/DeepLearning/blob/master/Lab8/Keras_Callbacks_J025.ipynb\" target=\"_parent\"><img src=\"https://colab.research.google.com/assets/colab-badge.svg\" alt=\"Open In Colab\"/></a>"
      ]
    },
    {
      "cell_type": "code",
      "metadata": {
        "id": "9Qi36pHUtjWZ",
        "colab_type": "code",
        "colab": {
          "base_uri": "https://localhost:8080/",
          "height": 1000
        },
        "outputId": "b1f1d632-6d85-4b7f-99ad-f1ebbae1b91e"
      },
      "source": [
        "import keras\n",
        "from keras import models\n",
        "from keras.layers import Dense, Dropout\n",
        "from keras.utils import to_categorical\n",
        "from keras.datasets import mnist\n",
        "from keras.utils.vis_utils import model_to_dot\n",
        "from IPython.display import SVG\n",
        "from keras.callbacks import ModelCheckpoint\n",
        "\n",
        "NUM_ROWS = 28\n",
        "NUM_COLS = 28\n",
        "NUM_CLASSES = 10\n",
        "BATCH_SIZE = 128\n",
        "EPOCHS = 10\n",
        "\n",
        "# Load data\n",
        "(X_train, y_train), (X_test, y_test) = mnist.load_data()\n",
        "\n",
        "# Reshape data\n",
        "X_train = X_train.reshape((X_train.shape[0], NUM_ROWS * NUM_COLS))\n",
        "X_train = X_train.astype('float32') / 255\n",
        "X_test = X_test.reshape((X_test.shape[0], NUM_ROWS * NUM_COLS))\n",
        "X_test = X_test.astype('float32') / 255\n",
        "\n",
        "# Categorically encode labels\n",
        "y_train = to_categorical(y_train, NUM_CLASSES)\n",
        "y_test = to_categorical(y_test, NUM_CLASSES)\n",
        "\n",
        "\n",
        "# Build neural network\n",
        "model = models.Sequential()\n",
        "model.add(Dense(512, activation='elu', input_shape=(NUM_ROWS * NUM_COLS,)))\n",
        "model.add(Dense(256, activation='elu'))\n",
        "model.add(Dense(10, activation='softmax'))\n",
        "\n",
        "# Compile model\n",
        "model.compile(optimizer='rmsprop',\n",
        "              loss='categorical_crossentropy',\n",
        "              metrics=['accuracy'])\n",
        "\n",
        "\n",
        "\n",
        "# checkpoint\n",
        "filepath=\"weights-improvement-{epoch:02d}-{val_acc:.2f}.hdf5\"\n",
        "checkpoint = ModelCheckpoint(filepath, monitor='val_acc', verbose=1, save_best_only=True, mode='max')\n",
        "callbacks_list = [checkpoint]\n",
        "\n",
        "\n",
        "# Train model\n",
        "model.fit(X_train, y_train,\n",
        "          batch_size=BATCH_SIZE,\n",
        "          epochs=EPOCHS,\n",
        "          verbose=1,\n",
        "          validation_data=(X_test, y_test), callbacks=callbacks_list)\n",
        "\n",
        "\n"
      ],
      "execution_count": 1,
      "outputs": [
        {
          "output_type": "stream",
          "text": [
            "Using TensorFlow backend.\n"
          ],
          "name": "stderr"
        },
        {
          "output_type": "display_data",
          "data": {
            "text/html": [
              "<p style=\"color: red;\">\n",
              "The default version of TensorFlow in Colab will soon switch to TensorFlow 2.x.<br>\n",
              "We recommend you <a href=\"https://www.tensorflow.org/guide/migrate\" target=\"_blank\">upgrade</a> now \n",
              "or ensure your notebook will continue to use TensorFlow 1.x via the <code>%tensorflow_version 1.x</code> magic:\n",
              "<a href=\"https://colab.research.google.com/notebooks/tensorflow_version.ipynb\" target=\"_blank\">more info</a>.</p>\n"
            ],
            "text/plain": [
              "<IPython.core.display.HTML object>"
            ]
          },
          "metadata": {
            "tags": []
          }
        },
        {
          "output_type": "stream",
          "text": [
            "Downloading data from https://s3.amazonaws.com/img-datasets/mnist.npz\n",
            "11493376/11490434 [==============================] - 1s 0us/step\n",
            "WARNING:tensorflow:From /usr/local/lib/python3.6/dist-packages/keras/backend/tensorflow_backend.py:66: The name tf.get_default_graph is deprecated. Please use tf.compat.v1.get_default_graph instead.\n",
            "\n",
            "WARNING:tensorflow:From /usr/local/lib/python3.6/dist-packages/keras/backend/tensorflow_backend.py:541: The name tf.placeholder is deprecated. Please use tf.compat.v1.placeholder instead.\n",
            "\n",
            "WARNING:tensorflow:From /usr/local/lib/python3.6/dist-packages/keras/backend/tensorflow_backend.py:4432: The name tf.random_uniform is deprecated. Please use tf.random.uniform instead.\n",
            "\n",
            "WARNING:tensorflow:From /usr/local/lib/python3.6/dist-packages/keras/optimizers.py:793: The name tf.train.Optimizer is deprecated. Please use tf.compat.v1.train.Optimizer instead.\n",
            "\n",
            "WARNING:tensorflow:From /usr/local/lib/python3.6/dist-packages/keras/backend/tensorflow_backend.py:3576: The name tf.log is deprecated. Please use tf.math.log instead.\n",
            "\n",
            "WARNING:tensorflow:From /usr/local/lib/python3.6/dist-packages/tensorflow_core/python/ops/math_grad.py:1424: where (from tensorflow.python.ops.array_ops) is deprecated and will be removed in a future version.\n",
            "Instructions for updating:\n",
            "Use tf.where in 2.0, which has the same broadcast rule as np.where\n",
            "WARNING:tensorflow:From /usr/local/lib/python3.6/dist-packages/keras/backend/tensorflow_backend.py:1033: The name tf.assign_add is deprecated. Please use tf.compat.v1.assign_add instead.\n",
            "\n",
            "WARNING:tensorflow:From /usr/local/lib/python3.6/dist-packages/keras/backend/tensorflow_backend.py:1020: The name tf.assign is deprecated. Please use tf.compat.v1.assign instead.\n",
            "\n",
            "WARNING:tensorflow:From /usr/local/lib/python3.6/dist-packages/keras/backend/tensorflow_backend.py:3005: The name tf.Session is deprecated. Please use tf.compat.v1.Session instead.\n",
            "\n",
            "Train on 60000 samples, validate on 10000 samples\n",
            "Epoch 1/10\n",
            "WARNING:tensorflow:From /usr/local/lib/python3.6/dist-packages/keras/backend/tensorflow_backend.py:190: The name tf.get_default_session is deprecated. Please use tf.compat.v1.get_default_session instead.\n",
            "\n",
            "WARNING:tensorflow:From /usr/local/lib/python3.6/dist-packages/keras/backend/tensorflow_backend.py:197: The name tf.ConfigProto is deprecated. Please use tf.compat.v1.ConfigProto instead.\n",
            "\n",
            "WARNING:tensorflow:From /usr/local/lib/python3.6/dist-packages/keras/backend/tensorflow_backend.py:207: The name tf.global_variables is deprecated. Please use tf.compat.v1.global_variables instead.\n",
            "\n",
            "WARNING:tensorflow:From /usr/local/lib/python3.6/dist-packages/keras/backend/tensorflow_backend.py:216: The name tf.is_variable_initialized is deprecated. Please use tf.compat.v1.is_variable_initialized instead.\n",
            "\n",
            "WARNING:tensorflow:From /usr/local/lib/python3.6/dist-packages/keras/backend/tensorflow_backend.py:223: The name tf.variables_initializer is deprecated. Please use tf.compat.v1.variables_initializer instead.\n",
            "\n",
            "60000/60000 [==============================] - 8s 134us/step - loss: 0.2873 - acc: 0.9140 - val_loss: 0.1693 - val_acc: 0.9454\n",
            "\n",
            "Epoch 00001: val_acc improved from -inf to 0.94540, saving model to weights-improvement-01-0.95.hdf5\n",
            "Epoch 2/10\n",
            "60000/60000 [==============================] - 7s 125us/step - loss: 0.1228 - acc: 0.9626 - val_loss: 0.1153 - val_acc: 0.9653\n",
            "\n",
            "Epoch 00002: val_acc improved from 0.94540 to 0.96530, saving model to weights-improvement-02-0.97.hdf5\n",
            "Epoch 3/10\n",
            "60000/60000 [==============================] - 7s 120us/step - loss: 0.0833 - acc: 0.9738 - val_loss: 0.1027 - val_acc: 0.9692\n",
            "\n",
            "Epoch 00003: val_acc improved from 0.96530 to 0.96920, saving model to weights-improvement-03-0.97.hdf5\n",
            "Epoch 4/10\n",
            "60000/60000 [==============================] - 7s 121us/step - loss: 0.0642 - acc: 0.9799 - val_loss: 0.0836 - val_acc: 0.9737\n",
            "\n",
            "Epoch 00004: val_acc improved from 0.96920 to 0.97370, saving model to weights-improvement-04-0.97.hdf5\n",
            "Epoch 5/10\n",
            "60000/60000 [==============================] - 7s 121us/step - loss: 0.0496 - acc: 0.9844 - val_loss: 0.0777 - val_acc: 0.9771\n",
            "\n",
            "Epoch 00005: val_acc improved from 0.97370 to 0.97710, saving model to weights-improvement-05-0.98.hdf5\n",
            "Epoch 6/10\n",
            "60000/60000 [==============================] - 7s 121us/step - loss: 0.0426 - acc: 0.9862 - val_loss: 0.0702 - val_acc: 0.9809\n",
            "\n",
            "Epoch 00006: val_acc improved from 0.97710 to 0.98090, saving model to weights-improvement-06-0.98.hdf5\n",
            "Epoch 7/10\n",
            "60000/60000 [==============================] - 7s 121us/step - loss: 0.0340 - acc: 0.9886 - val_loss: 0.0957 - val_acc: 0.9764\n",
            "\n",
            "Epoch 00007: val_acc did not improve from 0.98090\n",
            "Epoch 8/10\n",
            "60000/60000 [==============================] - 7s 122us/step - loss: 0.0281 - acc: 0.9908 - val_loss: 0.0839 - val_acc: 0.9787\n",
            "\n",
            "Epoch 00008: val_acc did not improve from 0.98090\n",
            "Epoch 9/10\n",
            "60000/60000 [==============================] - 7s 121us/step - loss: 0.0252 - acc: 0.9920 - val_loss: 0.0833 - val_acc: 0.9796\n",
            "\n",
            "Epoch 00009: val_acc did not improve from 0.98090\n",
            "Epoch 10/10\n",
            "60000/60000 [==============================] - 7s 121us/step - loss: 0.0219 - acc: 0.9931 - val_loss: 0.0782 - val_acc: 0.9807\n",
            "\n",
            "Epoch 00010: val_acc did not improve from 0.98090\n"
          ],
          "name": "stdout"
        },
        {
          "output_type": "execute_result",
          "data": {
            "text/plain": [
              "<keras.callbacks.History at 0x7f0f61ccaf60>"
            ]
          },
          "metadata": {
            "tags": []
          },
          "execution_count": 1
        }
      ]
    },
    {
      "cell_type": "markdown",
      "metadata": {
        "id": "Jveut6hlv4vM",
        "colab_type": "text"
      },
      "source": [
        "#Create checkpoint for storing best model only\n",
        "\n",
        "A simpler check-point strategy is to save the model weights to the same file, if and only if the validation accuracy improves.\n",
        "\n",
        "This can be done easily using the same code from above and changing the output filename to be fixed (not include score or epoch information).\n",
        "\n",
        "In this case, model weights are written to the file “weights.best.hdf5” only if the classification accuracy of the model on the validation dataset improves over the best seen so far."
      ]
    },
    {
      "cell_type": "code",
      "metadata": {
        "id": "4SoNDAjwwAX5",
        "colab_type": "code",
        "colab": {
          "base_uri": "https://localhost:8080/",
          "height": 793
        },
        "outputId": "209244e8-c6d9-4374-cc62-771adbedf34d"
      },
      "source": [
        "import keras\n",
        "from keras import models\n",
        "from keras.layers import Dense, Dropout\n",
        "from keras.utils import to_categorical\n",
        "from keras.datasets import mnist\n",
        "from keras.utils.vis_utils import model_to_dot\n",
        "from IPython.display import SVG\n",
        "from keras.callbacks import ModelCheckpoint\n",
        "\n",
        "NUM_ROWS = 28\n",
        "NUM_COLS = 28\n",
        "NUM_CLASSES = 10\n",
        "BATCH_SIZE = 128\n",
        "EPOCHS = 10\n",
        "\n",
        "# Load data\n",
        "(X_train, y_train), (X_test, y_test) = mnist.load_data()\n",
        "\n",
        "# Reshape data\n",
        "X_train = X_train.reshape((X_train.shape[0], NUM_ROWS * NUM_COLS))\n",
        "X_train = X_train.astype('float32') / 255\n",
        "X_test = X_test.reshape((X_test.shape[0], NUM_ROWS * NUM_COLS))\n",
        "X_test = X_test.astype('float32') / 255\n",
        "\n",
        "# Categorically encode labels\n",
        "y_train = to_categorical(y_train, NUM_CLASSES)\n",
        "y_test = to_categorical(y_test, NUM_CLASSES)\n",
        "\n",
        "\n",
        "# Build neural network\n",
        "model = models.Sequential()\n",
        "model.add(Dense(512, activation='elu', input_shape=(NUM_ROWS * NUM_COLS,)))\n",
        "model.add(Dense(256, activation='elu'))\n",
        "model.add(Dense(10, activation='softmax'))\n",
        "\n",
        "# Compile model\n",
        "model.compile(optimizer='rmsprop',\n",
        "              loss='categorical_crossentropy',\n",
        "              metrics=['accuracy'])\n",
        "\n",
        "\n",
        "\n",
        "# checkpoint\n",
        "filepath=\"weights.best.hdf5\"\n",
        "checkpoint = ModelCheckpoint(filepath, monitor='val_acc', verbose=1, save_best_only=True, mode='max')\n",
        "callbacks_list = [checkpoint]\n",
        "\n",
        "\n",
        "# Train model\n",
        "model.fit(X_train, y_train,\n",
        "          batch_size=BATCH_SIZE,\n",
        "          epochs=EPOCHS,\n",
        "          verbose=1,\n",
        "          validation_data=(X_test, y_test), callbacks=callbacks_list)\n",
        "\n",
        "\n"
      ],
      "execution_count": 2,
      "outputs": [
        {
          "output_type": "stream",
          "text": [
            "Train on 60000 samples, validate on 10000 samples\n",
            "Epoch 1/10\n",
            "60000/60000 [==============================] - 8s 125us/step - loss: 0.2880 - acc: 0.9131 - val_loss: 0.1394 - val_acc: 0.9565\n",
            "\n",
            "Epoch 00001: val_acc improved from -inf to 0.95650, saving model to weights.best.hdf5\n",
            "Epoch 2/10\n",
            "60000/60000 [==============================] - 7s 123us/step - loss: 0.1230 - acc: 0.9622 - val_loss: 0.1306 - val_acc: 0.9622\n",
            "\n",
            "Epoch 00002: val_acc improved from 0.95650 to 0.96220, saving model to weights.best.hdf5\n",
            "Epoch 3/10\n",
            "60000/60000 [==============================] - 7s 123us/step - loss: 0.0858 - acc: 0.9740 - val_loss: 0.0952 - val_acc: 0.9702\n",
            "\n",
            "Epoch 00003: val_acc improved from 0.96220 to 0.97020, saving model to weights.best.hdf5\n",
            "Epoch 4/10\n",
            "60000/60000 [==============================] - 7s 123us/step - loss: 0.0650 - acc: 0.9799 - val_loss: 0.0916 - val_acc: 0.9719\n",
            "\n",
            "Epoch 00004: val_acc improved from 0.97020 to 0.97190, saving model to weights.best.hdf5\n",
            "Epoch 5/10\n",
            "60000/60000 [==============================] - 7s 122us/step - loss: 0.0520 - acc: 0.9833 - val_loss: 0.1085 - val_acc: 0.9703\n",
            "\n",
            "Epoch 00005: val_acc did not improve from 0.97190\n",
            "Epoch 6/10\n",
            "60000/60000 [==============================] - 7s 123us/step - loss: 0.0424 - acc: 0.9860 - val_loss: 0.0849 - val_acc: 0.9758\n",
            "\n",
            "Epoch 00006: val_acc improved from 0.97190 to 0.97580, saving model to weights.best.hdf5\n",
            "Epoch 7/10\n",
            "60000/60000 [==============================] - 7s 123us/step - loss: 0.0351 - acc: 0.9886 - val_loss: 0.0836 - val_acc: 0.9773\n",
            "\n",
            "Epoch 00007: val_acc improved from 0.97580 to 0.97730, saving model to weights.best.hdf5\n",
            "Epoch 8/10\n",
            "60000/60000 [==============================] - 7s 122us/step - loss: 0.0291 - acc: 0.9906 - val_loss: 0.0820 - val_acc: 0.9781\n",
            "\n",
            "Epoch 00008: val_acc improved from 0.97730 to 0.97810, saving model to weights.best.hdf5\n",
            "Epoch 9/10\n",
            "60000/60000 [==============================] - 7s 124us/step - loss: 0.0249 - acc: 0.9916 - val_loss: 0.0864 - val_acc: 0.9794\n",
            "\n",
            "Epoch 00009: val_acc improved from 0.97810 to 0.97940, saving model to weights.best.hdf5\n",
            "Epoch 10/10\n",
            "60000/60000 [==============================] - 7s 123us/step - loss: 0.0209 - acc: 0.9931 - val_loss: 0.1008 - val_acc: 0.9786\n",
            "\n",
            "Epoch 00010: val_acc did not improve from 0.97940\n"
          ],
          "name": "stdout"
        },
        {
          "output_type": "execute_result",
          "data": {
            "text/plain": [
              "<keras.callbacks.History at 0x7f0f5c653d68>"
            ]
          },
          "metadata": {
            "tags": []
          },
          "execution_count": 2
        }
      ]
    },
    {
      "cell_type": "markdown",
      "metadata": {
        "id": "my7CaRnYwPsC",
        "colab_type": "text"
      },
      "source": [
        "#Loading a Check-Pointed Neural Network Model\n",
        "\n",
        "After the model is saved , we can use it to make predictions"
      ]
    },
    {
      "cell_type": "code",
      "metadata": {
        "id": "eyuYyP-XwhdP",
        "colab_type": "code",
        "colab": {
          "base_uri": "https://localhost:8080/",
          "height": 35
        },
        "outputId": "4b4846c4-6ac4-4904-f820-7ab43f77383b"
      },
      "source": [
        "import keras\n",
        "from keras import models\n",
        "import numpy as np\n",
        "#Create new model\n",
        "model_new = models.Sequential()\n",
        "model_new.add(Dense(512, activation='elu', input_shape=(NUM_ROWS * NUM_COLS,)))\n",
        "model_new.add(Dense(256, activation='elu'))\n",
        "model_new.add(Dense(10, activation='softmax'))\n",
        "\n",
        "model_new.load_weights(\"weights.best.hdf5\")\n",
        "\n",
        "# Compile model\n",
        "model_new.compile(optimizer='rmsprop',\n",
        "              loss='categorical_crossentropy',\n",
        "              metrics=['accuracy'])\n",
        "\n",
        "X_total=np.concatenate((X_train,X_test))\n",
        "y_total=np.concatenate((y_train,y_test))\n",
        "\n",
        "scores = model_new.evaluate(X_total, y_total, verbose=0)\n",
        "print(\"%s: %.2f%%\" % (model_new.metrics_names[1], scores[1]*100))"
      ],
      "execution_count": 4,
      "outputs": [
        {
          "output_type": "stream",
          "text": [
            "acc: 99.34%\n"
          ],
          "name": "stdout"
        }
      ]
    },
    {
      "cell_type": "markdown",
      "metadata": {
        "id": "mMNmXQvYz-O_",
        "colab_type": "text"
      },
      "source": [
        "#Thank you for completing this notebook\n"
      ]
    }
  ]
}